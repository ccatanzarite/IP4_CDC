{
 "cells": [
  {
   "cell_type": "markdown",
   "metadata": {},
   "source": [
    "# Individual Project 4\n",
    "---\n",
    "**Author**: Clayton Catanzarite  \n",
    "**Version**: 1.0  \n",
    "**Semester**: Spring 2021  \n",
    "**Summary**:  \n",
    "\n",
    "This is the fourth project for the DS-160-01 class. In this project, we are finding a dataset of ours and using the tools that we used in the past to clean and analyze the data. "
   ]
  },
  {
   "cell_type": "markdown",
   "metadata": {},
   "source": [
    "# Import Packages"
   ]
  },
  {
   "cell_type": "code",
   "execution_count": 108,
   "metadata": {},
   "outputs": [],
   "source": [
    "import pandas as pd\n",
    "import numpy as np\n",
    "import matplotlib.pyplot as plt\n",
    "import seaborn as sns\n",
    "%matplotlib inline"
   ]
  },
  {
   "cell_type": "markdown",
   "metadata": {},
   "source": [
    "### Beginning the exploration"
   ]
  },
  {
   "cell_type": "code",
   "execution_count": 109,
   "metadata": {},
   "outputs": [
    {
     "data": {
      "text/html": [
       "<div>\n",
       "<style scoped>\n",
       "    .dataframe tbody tr th:only-of-type {\n",
       "        vertical-align: middle;\n",
       "    }\n",
       "\n",
       "    .dataframe tbody tr th {\n",
       "        vertical-align: top;\n",
       "    }\n",
       "\n",
       "    .dataframe thead th {\n",
       "        text-align: right;\n",
       "    }\n",
       "</style>\n",
       "<table border=\"1\" class=\"dataframe\">\n",
       "  <thead>\n",
       "    <tr style=\"text-align: right;\">\n",
       "      <th></th>\n",
       "      <th>Date</th>\n",
       "      <th>Team</th>\n",
       "      <th>Time</th>\n",
       "      <th>Opponent</th>\n",
       "      <th>Rank</th>\n",
       "      <th>Site</th>\n",
       "      <th>TV</th>\n",
       "      <th>Result</th>\n",
       "      <th>Attendance</th>\n",
       "      <th>CurrentWins</th>\n",
       "      <th>...</th>\n",
       "      <th>PRCP</th>\n",
       "      <th>SNOW</th>\n",
       "      <th>SNWD</th>\n",
       "      <th>TMAX</th>\n",
       "      <th>TMIN</th>\n",
       "      <th>Opponent_Rank</th>\n",
       "      <th>Conference</th>\n",
       "      <th>Year</th>\n",
       "      <th>Month</th>\n",
       "      <th>Day</th>\n",
       "    </tr>\n",
       "  </thead>\n",
       "  <tbody>\n",
       "    <tr>\n",
       "      <th>0</th>\n",
       "      <td>9/2/2000</td>\n",
       "      <td>Arkansas</td>\n",
       "      <td>8:00 PM</td>\n",
       "      <td>Southwest Missouri State*</td>\n",
       "      <td>NR</td>\n",
       "      <td>War Memorial StadiumLittle Rock, AR</td>\n",
       "      <td>Not on TV</td>\n",
       "      <td>W 380</td>\n",
       "      <td>53946</td>\n",
       "      <td>0</td>\n",
       "      <td>...</td>\n",
       "      <td>0.00</td>\n",
       "      <td>0.0</td>\n",
       "      <td>0.0</td>\n",
       "      <td>105</td>\n",
       "      <td>65</td>\n",
       "      <td>NR</td>\n",
       "      <td>SEC</td>\n",
       "      <td>2000</td>\n",
       "      <td>9</td>\n",
       "      <td>2</td>\n",
       "    </tr>\n",
       "    <tr>\n",
       "      <th>1</th>\n",
       "      <td>9/16/2000</td>\n",
       "      <td>Arkansas</td>\n",
       "      <td>6:00 PM</td>\n",
       "      <td>Boise State*</td>\n",
       "      <td>NR</td>\n",
       "      <td>War Memorial StadiumLittle Rock, AR</td>\n",
       "      <td>Not on TV</td>\n",
       "      <td>W 38-31</td>\n",
       "      <td>54286</td>\n",
       "      <td>1</td>\n",
       "      <td>...</td>\n",
       "      <td>0.00</td>\n",
       "      <td>0.0</td>\n",
       "      <td>0.0</td>\n",
       "      <td>79</td>\n",
       "      <td>44</td>\n",
       "      <td>NR</td>\n",
       "      <td>SEC</td>\n",
       "      <td>2000</td>\n",
       "      <td>9</td>\n",
       "      <td>16</td>\n",
       "    </tr>\n",
       "    <tr>\n",
       "      <th>2</th>\n",
       "      <td>9/23/2000</td>\n",
       "      <td>Arkansas</td>\n",
       "      <td>8:00 PM</td>\n",
       "      <td>Alabama</td>\n",
       "      <td>NR</td>\n",
       "      <td>Razorback StadiumFayetteville, AR</td>\n",
       "      <td>ESPN2</td>\n",
       "      <td>W 28-21</td>\n",
       "      <td>51482</td>\n",
       "      <td>1</td>\n",
       "      <td>...</td>\n",
       "      <td>2.12</td>\n",
       "      <td>0.0</td>\n",
       "      <td>0.0</td>\n",
       "      <td>85</td>\n",
       "      <td>63</td>\n",
       "      <td>NR</td>\n",
       "      <td>SEC</td>\n",
       "      <td>2000</td>\n",
       "      <td>9</td>\n",
       "      <td>23</td>\n",
       "    </tr>\n",
       "    <tr>\n",
       "      <th>3</th>\n",
       "      <td>9/30/2000</td>\n",
       "      <td>Arkansas</td>\n",
       "      <td>11:30 AM</td>\n",
       "      <td>No.25 Georgia</td>\n",
       "      <td>NR</td>\n",
       "      <td>Razorback StadiumFayetteville, AR</td>\n",
       "      <td>JPS</td>\n",
       "      <td>L 7-38</td>\n",
       "      <td>51162</td>\n",
       "      <td>1</td>\n",
       "      <td>...</td>\n",
       "      <td>0.00</td>\n",
       "      <td>0.0</td>\n",
       "      <td>0.0</td>\n",
       "      <td>77</td>\n",
       "      <td>45</td>\n",
       "      <td>25</td>\n",
       "      <td>SEC</td>\n",
       "      <td>2000</td>\n",
       "      <td>9</td>\n",
       "      <td>30</td>\n",
       "    </tr>\n",
       "    <tr>\n",
       "      <th>4</th>\n",
       "      <td>10/7/2000</td>\n",
       "      <td>Arkansas</td>\n",
       "      <td>6:00 PM</td>\n",
       "      <td>Louisiana–Monroe*</td>\n",
       "      <td>NR</td>\n",
       "      <td>Razorback StadiumFayetteville, AR</td>\n",
       "      <td>Not on TV</td>\n",
       "      <td>W 52-6</td>\n",
       "      <td>50947</td>\n",
       "      <td>3</td>\n",
       "      <td>...</td>\n",
       "      <td>0.00</td>\n",
       "      <td>0.0</td>\n",
       "      <td>0.0</td>\n",
       "      <td>50</td>\n",
       "      <td>28</td>\n",
       "      <td>NR</td>\n",
       "      <td>SEC</td>\n",
       "      <td>2000</td>\n",
       "      <td>10</td>\n",
       "      <td>7</td>\n",
       "    </tr>\n",
       "  </tbody>\n",
       "</table>\n",
       "<p>5 rows × 25 columns</p>\n",
       "</div>"
      ],
      "text/plain": [
       "        Date      Team      Time                   Opponent Rank  \\\n",
       "0   9/2/2000  Arkansas   8:00 PM  Southwest Missouri State*   NR   \n",
       "1  9/16/2000  Arkansas   6:00 PM               Boise State*   NR   \n",
       "2  9/23/2000  Arkansas   8:00 PM                    Alabama   NR   \n",
       "3  9/30/2000  Arkansas  11:30 AM              No.25 Georgia   NR   \n",
       "4  10/7/2000  Arkansas   6:00 PM          Louisiana–Monroe*   NR   \n",
       "\n",
       "                                  Site         TV   Result  Attendance  \\\n",
       "0  War Memorial StadiumLittle Rock, AR  Not on TV    W 380       53946   \n",
       "1  War Memorial StadiumLittle Rock, AR  Not on TV  W 38-31       54286   \n",
       "2    Razorback StadiumFayetteville, AR      ESPN2  W 28-21       51482   \n",
       "3    Razorback StadiumFayetteville, AR        JPS   L 7-38       51162   \n",
       "4    Razorback StadiumFayetteville, AR  Not on TV   W 52-6       50947   \n",
       "\n",
       "   CurrentWins  ...  PRCP  SNOW  SNWD  TMAX  TMIN  Opponent_Rank  Conference  \\\n",
       "0            0  ...  0.00   0.0   0.0   105    65             NR         SEC   \n",
       "1            1  ...  0.00   0.0   0.0    79    44             NR         SEC   \n",
       "2            1  ...  2.12   0.0   0.0    85    63             NR         SEC   \n",
       "3            1  ...  0.00   0.0   0.0    77    45             25         SEC   \n",
       "4            3  ...  0.00   0.0   0.0    50    28             NR         SEC   \n",
       "\n",
       "   Year  Month  Day  \n",
       "0  2000      9    2  \n",
       "1  2000      9   16  \n",
       "2  2000      9   23  \n",
       "3  2000      9   30  \n",
       "4  2000     10    7  \n",
       "\n",
       "[5 rows x 25 columns]"
      ]
     },
     "execution_count": 109,
     "metadata": {},
     "output_type": "execute_result"
    }
   ],
   "source": [
    "df = pd.read_csv('CFBattendance.csv',encoding='cp1252')\n",
    "df.head()"
   ]
  },
  {
   "cell_type": "code",
   "execution_count": 110,
   "metadata": {},
   "outputs": [
    {
     "data": {
      "text/plain": [
       "Index(['Date', 'Team', 'Time', 'Opponent', 'Rank', 'Site', 'TV', 'Result',\n",
       "       'Attendance', 'CurrentWins', 'Current Losses', 'Stadium Capacity',\n",
       "       'Fill Rate', 'New Coach', 'Tailgating', 'precipitation', 'snow_in',\n",
       "       'snow_depth_in', 'temp_max_f', 'temp_min_f', 'Opponent_Rank',\n",
       "       'Conference', 'Year', 'Month', 'Day'],\n",
       "      dtype='object')"
      ]
     },
     "execution_count": 110,
     "metadata": {},
     "output_type": "execute_result"
    }
   ],
   "source": [
    "df.rename(columns={\"PRCP\": \"precipitation\",\n",
    "                   \"SNWD\":\"snow_depth_in\",\n",
    "                   \"TMAX\":\"temp_max_f\",\n",
    "                   \"TMIN\":\"temp_min_f\",\n",
    "                   \"SNOW\": \"snow_in\"},inplace=True)\n",
    "df.columns"
   ]
  },
  {
   "cell_type": "code",
   "execution_count": 111,
   "metadata": {},
   "outputs": [
    {
     "data": {
      "text/plain": [
       "Date                 object\n",
       "Team                 object\n",
       "Time                 object\n",
       "Opponent             object\n",
       "Rank                 object\n",
       "Site                 object\n",
       "TV                   object\n",
       "Result               object\n",
       "Attendance            int64\n",
       "CurrentWins           int64\n",
       "Current Losses        int64\n",
       "Stadium Capacity      int64\n",
       "Fill Rate           float64\n",
       "New Coach              bool\n",
       "Tailgating             bool\n",
       "precipitation       float64\n",
       "snow_in             float64\n",
       "snow_depth_in       float64\n",
       "temp_max_f            int64\n",
       "temp_min_f            int64\n",
       "Opponent_Rank        object\n",
       "Conference           object\n",
       "Year                  int64\n",
       "Month                 int64\n",
       "Day                   int64\n",
       "dtype: object"
      ]
     },
     "execution_count": 111,
     "metadata": {},
     "output_type": "execute_result"
    }
   ],
   "source": [
    "df.dtypes"
   ]
  },
  {
   "cell_type": "markdown",
   "metadata": {},
   "source": [
    "### Summary statistics for continous variables"
   ]
  },
  {
   "cell_type": "code",
   "execution_count": 112,
   "metadata": {},
   "outputs": [
    {
     "data": {
      "text/plain": [
       "count      6672.000000\n",
       "mean      45311.522782\n",
       "std       25185.690583\n",
       "min        2267.000000\n",
       "25%       23301.000000\n",
       "50%       42527.500000\n",
       "75%       62358.000000\n",
       "max      110889.000000\n",
       "Name: Attendance, dtype: float64"
      ]
     },
     "execution_count": 112,
     "metadata": {},
     "output_type": "execute_result"
    }
   ],
   "source": [
    "df['Attendance'].describe()"
   ]
  },
  {
   "cell_type": "code",
   "execution_count": 113,
   "metadata": {},
   "outputs": [
    {
     "data": {
      "text/plain": [
       "count    6672.000000\n",
       "mean        2.872152\n",
       "std         2.427666\n",
       "min         0.000000\n",
       "25%         1.000000\n",
       "50%         2.000000\n",
       "75%         4.000000\n",
       "max        12.000000\n",
       "Name: CurrentWins, dtype: float64"
      ]
     },
     "execution_count": 113,
     "metadata": {},
     "output_type": "execute_result"
    }
   ],
   "source": [
    "df['CurrentWins'].describe()"
   ]
  },
  {
   "cell_type": "code",
   "execution_count": 114,
   "metadata": {},
   "outputs": [
    {
     "data": {
      "text/plain": [
       "count    6672.000000\n",
       "mean        2.348471\n",
       "std         2.237201\n",
       "min         0.000000\n",
       "25%         0.000000\n",
       "50%         2.000000\n",
       "75%         4.000000\n",
       "max        11.000000\n",
       "Name: Current Losses, dtype: float64"
      ]
     },
     "execution_count": 114,
     "metadata": {},
     "output_type": "execute_result"
    }
   ],
   "source": [
    "df['Current Losses'].describe()"
   ]
  },
  {
   "cell_type": "code",
   "execution_count": 115,
   "metadata": {},
   "outputs": [
    {
     "data": {
      "text/plain": [
       "count      6672.000000\n",
       "mean      54567.472872\n",
       "std       21755.536191\n",
       "min       17000.000000\n",
       "25%       36000.000000\n",
       "50%       52180.000000\n",
       "75%       71799.000000\n",
       "max      107282.000000\n",
       "Name: Stadium Capacity, dtype: float64"
      ]
     },
     "execution_count": 115,
     "metadata": {},
     "output_type": "execute_result"
    }
   ],
   "source": [
    "df['Stadium Capacity'].describe()"
   ]
  },
  {
   "cell_type": "code",
   "execution_count": 116,
   "metadata": {},
   "outputs": [
    {
     "data": {
      "text/plain": [
       "count    6672.000000\n",
       "mean        0.793865\n",
       "std         0.221910\n",
       "min         0.067483\n",
       "25%         0.645396\n",
       "50%         0.848149\n",
       "75%         0.990060\n",
       "max         1.403993\n",
       "Name: Fill Rate, dtype: float64"
      ]
     },
     "execution_count": 116,
     "metadata": {},
     "output_type": "execute_result"
    }
   ],
   "source": [
    "df['Fill Rate'].describe()"
   ]
  },
  {
   "cell_type": "code",
   "execution_count": 117,
   "metadata": {},
   "outputs": [
    {
     "data": {
      "text/plain": [
       "count    6672.000000\n",
       "mean        0.093230\n",
       "std         0.337667\n",
       "min         0.000000\n",
       "25%         0.000000\n",
       "50%         0.000000\n",
       "75%         0.010000\n",
       "max         6.450000\n",
       "Name: precipitation, dtype: float64"
      ]
     },
     "execution_count": 117,
     "metadata": {},
     "output_type": "execute_result"
    }
   ],
   "source": [
    "df['precipitation'].describe()"
   ]
  },
  {
   "cell_type": "code",
   "execution_count": 118,
   "metadata": {},
   "outputs": [
    {
     "data": {
      "text/plain": [
       "count    6672.000000\n",
       "mean        0.009607\n",
       "std         0.192520\n",
       "min         0.000000\n",
       "25%         0.000000\n",
       "50%         0.000000\n",
       "75%         0.000000\n",
       "max         8.200000\n",
       "Name: snow_in, dtype: float64"
      ]
     },
     "execution_count": 118,
     "metadata": {},
     "output_type": "execute_result"
    }
   ],
   "source": [
    "df['snow_in'].describe()"
   ]
  },
  {
   "cell_type": "code",
   "execution_count": 119,
   "metadata": {},
   "outputs": [
    {
     "data": {
      "text/plain": [
       "count    6672.000000\n",
       "mean        0.015812\n",
       "std         0.255716\n",
       "min         0.000000\n",
       "25%         0.000000\n",
       "50%         0.000000\n",
       "75%         0.000000\n",
       "max         7.100000\n",
       "Name: snow_depth_in, dtype: float64"
      ]
     },
     "execution_count": 119,
     "metadata": {},
     "output_type": "execute_result"
    }
   ],
   "source": [
    "df['snow_depth_in'].describe()"
   ]
  },
  {
   "cell_type": "code",
   "execution_count": 120,
   "metadata": {},
   "outputs": [
    {
     "data": {
      "text/plain": [
       "count    6672.000000\n",
       "mean       71.923711\n",
       "std        14.457450\n",
       "min        19.000000\n",
       "25%        62.000000\n",
       "50%        73.000000\n",
       "75%        83.000000\n",
       "max       111.000000\n",
       "Name: temp_max_f, dtype: float64"
      ]
     },
     "execution_count": 120,
     "metadata": {},
     "output_type": "execute_result"
    }
   ],
   "source": [
    "df['temp_max_f'].describe()"
   ]
  },
  {
   "cell_type": "code",
   "execution_count": 121,
   "metadata": {},
   "outputs": [
    {
     "data": {
      "text/plain": [
       "count    6672.000000\n",
       "mean       50.144185\n",
       "std        14.175122\n",
       "min         0.000000\n",
       "25%        40.000000\n",
       "50%        51.000000\n",
       "75%        61.000000\n",
       "max       103.000000\n",
       "Name: temp_min_f, dtype: float64"
      ]
     },
     "execution_count": 121,
     "metadata": {},
     "output_type": "execute_result"
    }
   ],
   "source": [
    "df['temp_min_f'].describe()"
   ]
  },
  {
   "cell_type": "markdown",
   "metadata": {},
   "source": [
    "### Summary Statistics for discrete variables"
   ]
  },
  {
   "cell_type": "code",
   "execution_count": 122,
   "metadata": {},
   "outputs": [
    {
     "data": {
      "text/plain": [
       "Team\n",
       "Western Kentucky     52\n",
       "Georgia State        52\n",
       "South Alabama        62\n",
       "Troy                 62\n",
       "Ohio                 71\n",
       "                   ... \n",
       "Michigan State      129\n",
       "Arkansas            129\n",
       "Penn State          130\n",
       "Nebraska            130\n",
       "Hawaii              132\n",
       "Name: Team, Length: 63, dtype: int64"
      ]
     },
     "execution_count": 122,
     "metadata": {},
     "output_type": "execute_result"
    }
   ],
   "source": [
    "df['Team'].groupby(df['Team']).count().sort_values()"
   ]
  },
  {
   "cell_type": "code",
   "execution_count": 123,
   "metadata": {},
   "outputs": [
    {
     "data": {
      "text/plain": [
       "Opponent\n",
       "(FCS) The Citadel*          1\n",
       "No.21 Missouri*             1\n",
       "No.21 Northern Illinois     1\n",
       "No.21 Ohio State*           1\n",
       "No.21 Oklahoma State*       1\n",
       "                           ..\n",
       "Purdue                     45\n",
       "Colorado                   46\n",
       "Akron                      46\n",
       "Kansas                     47\n",
       "Iowa State                 48\n",
       "Name: Opponent, Length: 1365, dtype: int64"
      ]
     },
     "execution_count": 123,
     "metadata": {},
     "output_type": "execute_result"
    }
   ],
   "source": [
    "df['Opponent'].groupby(df['Opponent']).count().sort_values()"
   ]
  },
  {
   "cell_type": "code",
   "execution_count": 124,
   "metadata": {},
   "outputs": [
    {
     "data": {
      "text/plain": [
       "Rank\n",
       "13      41\n",
       "6       45\n",
       "3       50\n",
       "15      52\n",
       "5       53\n",
       "7       54\n",
       "12      54\n",
       "9       54\n",
       "2       55\n",
       "8       55\n",
       "14      56\n",
       "4       56\n",
       "10      58\n",
       "16      59\n",
       "20      59\n",
       "21      61\n",
       "22      61\n",
       "23      61\n",
       "25      62\n",
       "18      62\n",
       "11      63\n",
       "17      65\n",
       "1       73\n",
       "19      73\n",
       "24      77\n",
       "NR    5213\n",
       "Name: Rank, dtype: int64"
      ]
     },
     "execution_count": 124,
     "metadata": {},
     "output_type": "execute_result"
    }
   ],
   "source": [
    "df['Rank'].groupby(df['Rank']).count().sort_values()"
   ]
  },
  {
   "cell_type": "code",
   "execution_count": 125,
   "metadata": {},
   "outputs": [
    {
     "data": {
      "text/plain": [
       "Site\n",
       "Huskie StadiumDeKalb, IL (Battle for the Bronze Stalk)      1\n",
       "Spectrum StadiumOrlando, FL (College GameDay)               1\n",
       "Glass BowlToledo, Ohio (Battle of I-75)                     1\n",
       "Reser StadiumCorvallis, OR (122nd Civil War)                1\n",
       "Husky StadiumSeattle, WA  - (Apple Cup)                     1\n",
       "                                                         ... \n",
       "Jack Trice StadiumAmes, IA                                100\n",
       "Beaver StadiumUniversity Park, PA                         102\n",
       "Camp Randall StadiumMadison, WI                           103\n",
       "Rose BowlPasadena, CA                                     105\n",
       "Aloha StadiumHonolulu, HI                                 114\n",
       "Name: Site, Length: 449, dtype: int64"
      ]
     },
     "execution_count": 125,
     "metadata": {},
     "output_type": "execute_result"
    }
   ],
   "source": [
    "df['Site'].groupby(df['Site']).count().sort_values()"
   ]
  },
  {
   "cell_type": "code",
   "execution_count": 126,
   "metadata": {},
   "outputs": [
    {
     "data": {
      "text/plain": [
       "TV\n",
       "4SD              1\n",
       "HTS              1\n",
       "Jayhawk SN       1\n",
       "KASY             1\n",
       "KATV             1\n",
       "              ... \n",
       "FSN            403\n",
       "ABC            453\n",
       "ESPN2          460\n",
       "ESPN           508\n",
       "Not on TV     1317\n",
       "Name: TV, Length: 245, dtype: int64"
      ]
     },
     "execution_count": 126,
     "metadata": {},
     "output_type": "execute_result"
    }
   ],
   "source": [
    "df['TV'].groupby(df['TV']).count().sort_values()"
   ]
  },
  {
   "cell_type": "code",
   "execution_count": 127,
   "metadata": {},
   "outputs": [
    {
     "data": {
      "text/plain": [
       "New Coach\n",
       "True     1093\n",
       "False    5579\n",
       "Name: New Coach, dtype: int64"
      ]
     },
     "execution_count": 127,
     "metadata": {},
     "output_type": "execute_result"
    }
   ],
   "source": [
    "df['New Coach'].groupby(df['New Coach']).count().sort_values()"
   ]
  },
  {
   "cell_type": "code",
   "execution_count": 128,
   "metadata": {},
   "outputs": [
    {
     "data": {
      "text/plain": [
       "Tailgating\n",
       "True     1431\n",
       "False    5241\n",
       "Name: Tailgating, dtype: int64"
      ]
     },
     "execution_count": 128,
     "metadata": {},
     "output_type": "execute_result"
    }
   ],
   "source": [
    "df['Tailgating'].groupby(df['Tailgating']).count().sort_values()"
   ]
  },
  {
   "cell_type": "code",
   "execution_count": 129,
   "metadata": {},
   "outputs": [
    {
     "data": {
      "text/plain": [
       "Opponent_Rank\n",
       "5       37\n",
       "6       38\n",
       "11      38\n",
       "12      39\n",
       "8       40\n",
       "24      40\n",
       "18      40\n",
       "17      43\n",
       "23      44\n",
       "7       44\n",
       "20      44\n",
       "14      44\n",
       "16      45\n",
       "9       46\n",
       "25      46\n",
       "22      47\n",
       "19      47\n",
       "3       48\n",
       "4       48\n",
       "15      49\n",
       "13      51\n",
       "10      52\n",
       "21      57\n",
       "2       68\n",
       "1       79\n",
       "NR    5498\n",
       "Name: Opponent_Rank, dtype: int64"
      ]
     },
     "execution_count": 129,
     "metadata": {},
     "output_type": "execute_result"
    }
   ],
   "source": [
    "df['Opponent_Rank'].groupby(df['Opponent_Rank']).count().sort_values()"
   ]
  },
  {
   "cell_type": "code",
   "execution_count": 130,
   "metadata": {},
   "outputs": [
    {
     "data": {
      "text/plain": [
       "Conference\n",
       "Big East         81\n",
       "FCS              91\n",
       "Independent     193\n",
       "AAC             273\n",
       "Sun Belt        392\n",
       "WAC             396\n",
       "MWC             414\n",
       "SEC             434\n",
       "Pac-12          508\n",
       "CUSA            537\n",
       "Mid-American    711\n",
       "Big-10          782\n",
       "Big-12          903\n",
       "ACC             957\n",
       "Name: Conference, dtype: int64"
      ]
     },
     "execution_count": 130,
     "metadata": {},
     "output_type": "execute_result"
    }
   ],
   "source": [
    "df['Conference'].groupby(df['Conference']).count().sort_values()"
   ]
  },
  {
   "cell_type": "code",
   "execution_count": 131,
   "metadata": {},
   "outputs": [
    {
     "data": {
      "text/plain": [
       "Year\n",
       "2000    292\n",
       "2001    297\n",
       "2004    309\n",
       "2005    317\n",
       "2003    351\n",
       "2002    352\n",
       "2017    354\n",
       "2018    355\n",
       "2006    359\n",
       "2013    363\n",
       "2014    363\n",
       "2012    366\n",
       "2015    366\n",
       "2007    366\n",
       "2010    370\n",
       "2016    370\n",
       "2009    371\n",
       "2011    373\n",
       "2008    378\n",
       "Name: Year, dtype: int64"
      ]
     },
     "execution_count": 131,
     "metadata": {},
     "output_type": "execute_result"
    }
   ],
   "source": [
    "df['Year'].groupby(df['Year']).count().sort_values()"
   ]
  },
  {
   "cell_type": "code",
   "execution_count": 132,
   "metadata": {},
   "outputs": [
    {
     "data": {
      "text/plain": [
       "Month\n",
       "1        1\n",
       "4        4\n",
       "12     110\n",
       "8      220\n",
       "11    1941\n",
       "10    2080\n",
       "9     2316\n",
       "Name: Month, dtype: int64"
      ]
     },
     "execution_count": 132,
     "metadata": {},
     "output_type": "execute_result"
    }
   ],
   "source": [
    "df['Month'].groupby(df['Month']).count().sort_values()"
   ]
  },
  {
   "cell_type": "code",
   "execution_count": 133,
   "metadata": {},
   "outputs": [
    {
     "data": {
      "text/plain": [
       "Day\n",
       "31    130\n",
       "28    169\n",
       "26    169\n",
       "25    180\n",
       "14    181\n",
       "21    188\n",
       "9     188\n",
       "16    188\n",
       "18    196\n",
       "12    198\n",
       "19    198\n",
       "23    201\n",
       "7     204\n",
       "27    205\n",
       "5     212\n",
       "4     214\n",
       "11    218\n",
       "2     220\n",
       "13    221\n",
       "24    232\n",
       "17    234\n",
       "20    238\n",
       "29    239\n",
       "15    242\n",
       "10    246\n",
       "22    246\n",
       "8     251\n",
       "3     251\n",
       "30    253\n",
       "6     273\n",
       "1     287\n",
       "Name: Day, dtype: int64"
      ]
     },
     "execution_count": 133,
     "metadata": {},
     "output_type": "execute_result"
    }
   ],
   "source": [
    "df['Day'].groupby(df['Day']).count().sort_values()"
   ]
  },
  {
   "cell_type": "markdown",
   "metadata": {},
   "source": [
    "### Correlation matrix for all continous variables"
   ]
  },
  {
   "cell_type": "code",
   "execution_count": 134,
   "metadata": {},
   "outputs": [
    {
     "data": {
      "text/html": [
       "<div>\n",
       "<style scoped>\n",
       "    .dataframe tbody tr th:only-of-type {\n",
       "        vertical-align: middle;\n",
       "    }\n",
       "\n",
       "    .dataframe tbody tr th {\n",
       "        vertical-align: top;\n",
       "    }\n",
       "\n",
       "    .dataframe thead th {\n",
       "        text-align: right;\n",
       "    }\n",
       "</style>\n",
       "<table border=\"1\" class=\"dataframe\">\n",
       "  <thead>\n",
       "    <tr style=\"text-align: right;\">\n",
       "      <th></th>\n",
       "      <th>Attendance</th>\n",
       "      <th>CurrentWins</th>\n",
       "      <th>Current Losses</th>\n",
       "      <th>Stadium Capacity</th>\n",
       "      <th>Fill Rate</th>\n",
       "      <th>Tailgating</th>\n",
       "      <th>precipitation</th>\n",
       "      <th>snow_in</th>\n",
       "      <th>snow_depth_in</th>\n",
       "      <th>temp_max_f</th>\n",
       "      <th>temp_min_f</th>\n",
       "    </tr>\n",
       "  </thead>\n",
       "  <tbody>\n",
       "    <tr>\n",
       "      <th>Attendance</th>\n",
       "      <td>1.000000</td>\n",
       "      <td>0.193411</td>\n",
       "      <td>-0.318375</td>\n",
       "      <td>0.899150</td>\n",
       "      <td>0.736451</td>\n",
       "      <td>0.739330</td>\n",
       "      <td>-0.019183</td>\n",
       "      <td>-0.010320</td>\n",
       "      <td>-0.011297</td>\n",
       "      <td>0.046539</td>\n",
       "      <td>0.054595</td>\n",
       "    </tr>\n",
       "    <tr>\n",
       "      <th>CurrentWins</th>\n",
       "      <td>0.193411</td>\n",
       "      <td>1.000000</td>\n",
       "      <td>0.113141</td>\n",
       "      <td>0.134485</td>\n",
       "      <td>0.171554</td>\n",
       "      <td>0.141993</td>\n",
       "      <td>-0.022694</td>\n",
       "      <td>0.033066</td>\n",
       "      <td>0.063576</td>\n",
       "      <td>-0.490596</td>\n",
       "      <td>-0.486005</td>\n",
       "    </tr>\n",
       "    <tr>\n",
       "      <th>Current Losses</th>\n",
       "      <td>-0.318375</td>\n",
       "      <td>0.113141</td>\n",
       "      <td>1.000000</td>\n",
       "      <td>-0.209049</td>\n",
       "      <td>-0.399002</td>\n",
       "      <td>-0.201371</td>\n",
       "      <td>-0.038956</td>\n",
       "      <td>0.070013</td>\n",
       "      <td>0.060223</td>\n",
       "      <td>-0.451237</td>\n",
       "      <td>-0.439433</td>\n",
       "    </tr>\n",
       "    <tr>\n",
       "      <th>Stadium Capacity</th>\n",
       "      <td>0.899150</td>\n",
       "      <td>0.134485</td>\n",
       "      <td>-0.209049</td>\n",
       "      <td>1.000000</td>\n",
       "      <td>0.412737</td>\n",
       "      <td>0.681427</td>\n",
       "      <td>-0.024220</td>\n",
       "      <td>-0.017017</td>\n",
       "      <td>-0.015403</td>\n",
       "      <td>0.068018</td>\n",
       "      <td>0.108162</td>\n",
       "    </tr>\n",
       "    <tr>\n",
       "      <th>Fill Rate</th>\n",
       "      <td>0.736451</td>\n",
       "      <td>0.171554</td>\n",
       "      <td>-0.399002</td>\n",
       "      <td>0.412737</td>\n",
       "      <td>1.000000</td>\n",
       "      <td>0.430187</td>\n",
       "      <td>-0.022863</td>\n",
       "      <td>0.000019</td>\n",
       "      <td>-0.008200</td>\n",
       "      <td>0.047763</td>\n",
       "      <td>0.006804</td>\n",
       "    </tr>\n",
       "    <tr>\n",
       "      <th>Tailgating</th>\n",
       "      <td>0.739330</td>\n",
       "      <td>0.141993</td>\n",
       "      <td>-0.201371</td>\n",
       "      <td>0.681427</td>\n",
       "      <td>0.430187</td>\n",
       "      <td>1.000000</td>\n",
       "      <td>-0.007432</td>\n",
       "      <td>-0.009955</td>\n",
       "      <td>-0.007608</td>\n",
       "      <td>-0.016288</td>\n",
       "      <td>0.020884</td>\n",
       "    </tr>\n",
       "    <tr>\n",
       "      <th>precipitation</th>\n",
       "      <td>-0.019183</td>\n",
       "      <td>-0.022694</td>\n",
       "      <td>-0.038956</td>\n",
       "      <td>-0.024220</td>\n",
       "      <td>-0.022863</td>\n",
       "      <td>-0.007432</td>\n",
       "      <td>1.000000</td>\n",
       "      <td>0.040167</td>\n",
       "      <td>0.013654</td>\n",
       "      <td>-0.022923</td>\n",
       "      <td>0.111581</td>\n",
       "    </tr>\n",
       "    <tr>\n",
       "      <th>snow_in</th>\n",
       "      <td>-0.010320</td>\n",
       "      <td>0.033066</td>\n",
       "      <td>0.070013</td>\n",
       "      <td>-0.017017</td>\n",
       "      <td>0.000019</td>\n",
       "      <td>-0.009955</td>\n",
       "      <td>0.040167</td>\n",
       "      <td>1.000000</td>\n",
       "      <td>0.508124</td>\n",
       "      <td>-0.124852</td>\n",
       "      <td>-0.097667</td>\n",
       "    </tr>\n",
       "    <tr>\n",
       "      <th>snow_depth_in</th>\n",
       "      <td>-0.011297</td>\n",
       "      <td>0.063576</td>\n",
       "      <td>0.060223</td>\n",
       "      <td>-0.015403</td>\n",
       "      <td>-0.008200</td>\n",
       "      <td>-0.007608</td>\n",
       "      <td>0.013654</td>\n",
       "      <td>0.508124</td>\n",
       "      <td>1.000000</td>\n",
       "      <td>-0.154523</td>\n",
       "      <td>-0.130962</td>\n",
       "    </tr>\n",
       "    <tr>\n",
       "      <th>temp_max_f</th>\n",
       "      <td>0.046539</td>\n",
       "      <td>-0.490596</td>\n",
       "      <td>-0.451237</td>\n",
       "      <td>0.068018</td>\n",
       "      <td>0.047763</td>\n",
       "      <td>-0.016288</td>\n",
       "      <td>-0.022923</td>\n",
       "      <td>-0.124852</td>\n",
       "      <td>-0.154523</td>\n",
       "      <td>1.000000</td>\n",
       "      <td>0.828600</td>\n",
       "    </tr>\n",
       "    <tr>\n",
       "      <th>temp_min_f</th>\n",
       "      <td>0.054595</td>\n",
       "      <td>-0.486005</td>\n",
       "      <td>-0.439433</td>\n",
       "      <td>0.108162</td>\n",
       "      <td>0.006804</td>\n",
       "      <td>0.020884</td>\n",
       "      <td>0.111581</td>\n",
       "      <td>-0.097667</td>\n",
       "      <td>-0.130962</td>\n",
       "      <td>0.828600</td>\n",
       "      <td>1.000000</td>\n",
       "    </tr>\n",
       "  </tbody>\n",
       "</table>\n",
       "</div>"
      ],
      "text/plain": [
       "                  Attendance  CurrentWins  Current Losses  Stadium Capacity  \\\n",
       "Attendance          1.000000     0.193411       -0.318375          0.899150   \n",
       "CurrentWins         0.193411     1.000000        0.113141          0.134485   \n",
       "Current Losses     -0.318375     0.113141        1.000000         -0.209049   \n",
       "Stadium Capacity    0.899150     0.134485       -0.209049          1.000000   \n",
       "Fill Rate           0.736451     0.171554       -0.399002          0.412737   \n",
       "Tailgating          0.739330     0.141993       -0.201371          0.681427   \n",
       "precipitation      -0.019183    -0.022694       -0.038956         -0.024220   \n",
       "snow_in            -0.010320     0.033066        0.070013         -0.017017   \n",
       "snow_depth_in      -0.011297     0.063576        0.060223         -0.015403   \n",
       "temp_max_f          0.046539    -0.490596       -0.451237          0.068018   \n",
       "temp_min_f          0.054595    -0.486005       -0.439433          0.108162   \n",
       "\n",
       "                  Fill Rate  Tailgating  precipitation   snow_in  \\\n",
       "Attendance         0.736451    0.739330      -0.019183 -0.010320   \n",
       "CurrentWins        0.171554    0.141993      -0.022694  0.033066   \n",
       "Current Losses    -0.399002   -0.201371      -0.038956  0.070013   \n",
       "Stadium Capacity   0.412737    0.681427      -0.024220 -0.017017   \n",
       "Fill Rate          1.000000    0.430187      -0.022863  0.000019   \n",
       "Tailgating         0.430187    1.000000      -0.007432 -0.009955   \n",
       "precipitation     -0.022863   -0.007432       1.000000  0.040167   \n",
       "snow_in            0.000019   -0.009955       0.040167  1.000000   \n",
       "snow_depth_in     -0.008200   -0.007608       0.013654  0.508124   \n",
       "temp_max_f         0.047763   -0.016288      -0.022923 -0.124852   \n",
       "temp_min_f         0.006804    0.020884       0.111581 -0.097667   \n",
       "\n",
       "                  snow_depth_in  temp_max_f  temp_min_f  \n",
       "Attendance            -0.011297    0.046539    0.054595  \n",
       "CurrentWins            0.063576   -0.490596   -0.486005  \n",
       "Current Losses         0.060223   -0.451237   -0.439433  \n",
       "Stadium Capacity      -0.015403    0.068018    0.108162  \n",
       "Fill Rate             -0.008200    0.047763    0.006804  \n",
       "Tailgating            -0.007608   -0.016288    0.020884  \n",
       "precipitation          0.013654   -0.022923    0.111581  \n",
       "snow_in                0.508124   -0.124852   -0.097667  \n",
       "snow_depth_in          1.000000   -0.154523   -0.130962  \n",
       "temp_max_f            -0.154523    1.000000    0.828600  \n",
       "temp_min_f            -0.130962    0.828600    1.000000  "
      ]
     },
     "execution_count": 134,
     "metadata": {},
     "output_type": "execute_result"
    }
   ],
   "source": [
    "dfcopy=df\n",
    "dfcopy.drop(['Year','Month','Day','New Coach'],axis=1,inplace=True)\n",
    "dfcopy.corr()"
   ]
  },
  {
   "cell_type": "code",
   "execution_count": 135,
   "metadata": {},
   "outputs": [
    {
     "data": {
      "text/plain": [
       "<AxesSubplot:>"
      ]
     },
     "execution_count": 135,
     "metadata": {},
     "output_type": "execute_result"
    },
    {
     "data": {
      "image/png": "[encoded data removed]",
      "text/plain": [
       "<Figure size 432x288 with 2 Axes>"
      ]
     },
     "metadata": {
      "needs_background": "light"
     },
     "output_type": "display_data"
    }
   ],
   "source": [
    "sns.heatmap(dfcopy.corr())"
   ]
  },
  {
   "cell_type": "markdown",
   "metadata": {},
   "source": [
    "## Data set graphical exploration"
   ]
  },
  {
   "cell_type": "markdown",
   "metadata": {},
   "source": [
    "### Distributions"
   ]
  },
  {
   "cell_type": "code",
   "execution_count": 143,
   "metadata": {},
   "outputs": [
    {
     "data": {
      "text/plain": [
       "<seaborn.axisgrid.FacetGrid at 0x21caf3b3550>"
      ]
     },
     "execution_count": 143,
     "metadata": {},
     "output_type": "execute_result"
    },
    {
     "data": {
      "image/png": "[encoded data removed]",
      "text/plain": [
       "<Figure size 360x360 with 1 Axes>"
      ]
     },
     "metadata": {
      "needs_background": "light"
     },
     "output_type": "display_data"
    }
   ],
   "source": [
    "sns.displot(df.Attendance,color='blue', bins=25,kde=True)"
   ]
  },
  {
   "cell_type": "code",
   "execution_count": 145,
   "metadata": {},
   "outputs": [],
   "source": [
    "SECdf = df.query(\"Conference == 'SEC'\")\n",
    "B10df = df.query(\"Conference == 'Big-10'\")\n",
    "PACdf = df.query(\"Conference == 'Pac-12'\")\n",
    "B12df = df.query(\"Conference == 'Big-12'\")\n",
    "ACCdf = df.query(\"Conference == 'ACC'\")"
   ]
  },
  {
   "cell_type": "code",
   "execution_count": 172,
   "metadata": {},
   "outputs": [
    {
     "data": {
      "image/png": "[encoded data removed]",
      "text/plain": [
       "<Figure size 1728x1728 with 5 Axes>"
      ]
     },
     "metadata": {
      "needs_background": "light"
     },
     "output_type": "display_data"
    }
   ],
   "source": [
    "fig = plt.figure(figsize=(24, 24))\n",
    "ax1 = fig.add_subplot(321,title=\"SEC Attendence Distribution\")\n",
    "sns.histplot(SECdf.Attendance,color='teal',bins=25,kde=True,ax=ax1)\n",
    "\n",
    "ax2 = fig.add_subplot(322,title=\"Big-10 Attendence Distribution\")\n",
    "sns.histplot(B10df.Attendance,color='red',bins=25,kde=True,ax=ax2)\n",
    "\n",
    "ax3 = fig.add_subplot(323,title=\"Pac-12 Attendence Distribution\")\n",
    "sns.histplot(PACdf.Attendance,color='purple',bins=25,kde=True,ax=ax3)\n",
    "\n",
    "ax4 = fig.add_subplot(324,title=\"Big-12 Attendence Distribution\")\n",
    "sns.histplot(B12df.Attendance,color='orange',bins=25,kde=True,ax=ax4)\n",
    "\n",
    "ax5 = fig.add_subplot(325,title=\"ACC Attendence Distribution\")\n",
    "sns.histplot(ACCdf.Attendance,color='skyblue',bins=25,kde=True,ax=ax5)\n",
    "\n",
    "fig.savefig('power5attendence.png')"
   ]
  },
  {
   "cell_type": "markdown",
   "metadata": {},
   "source": [
    "### Scatter plots"
   ]
  },
  {
   "cell_type": "code",
   "execution_count": 198,
   "metadata": {},
   "outputs": [
    {
     "data": {
      "text/plain": [
       "<seaborn.axisgrid.PairGrid at 0x21cc4ce73a0>"
      ]
     },
     "execution_count": 198,
     "metadata": {},
     "output_type": "execute_result"
    },
    {
     "data": {
      "image/png": "[encoded data removed]",
      "text/plain": [
       "<Figure size 429.5x360 with 6 Axes>"
      ]
     },
     "metadata": {
      "needs_background": "light"
     },
     "output_type": "display_data"
    }
   ],
   "source": [
    "Power5df = df.query(\"Conference == 'Big-10' or Conference == 'SEC' or Conference == 'Big-12' or Conference == 'ACC' or Conference == 'Pac-12'\")\n",
    "Rankeddf =Power5df.query(\"Rank != 'NR' and Opponent_Rank != 'NR'\")\n",
    "sns.pairplot(Rankeddf[['temp_max_f', 'Attendance','Conference']],hue='Conference')"
   ]
  },
  {
   "cell_type": "code",
   "execution_count": null,
   "metadata": {},
   "outputs": [],
   "source": []
  }
 ],
 "metadata": {
  "kernelspec": {
   "display_name": "Python 3",
   "language": "python",
   "name": "python3"
  },
  "language_info": {
   "codemirror_mode": {
    "name": "ipython",
    "version": 3
   },
   "file_extension": ".py",
   "mimetype": "text/x-python",
   "name": "python",
   "nbconvert_exporter": "python",
   "pygments_lexer": "ipython3",
   "version": "3.8.5"
  }
 },
 "nbformat": 4,
 "nbformat_minor": 4
}
